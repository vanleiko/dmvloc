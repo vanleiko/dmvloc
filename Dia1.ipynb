{
  "nbformat": 4,
  "nbformat_minor": 0,
  "metadata": {
    "colab": {
      "name": "Dia1.ipynb",
      "provenance": [],
      "collapsed_sections": []
    },
    "kernelspec": {
      "name": "python3",
      "display_name": "Python 3"
    }
  },
  "cells": [
    {
      "cell_type": "code",
      "metadata": {
        "id": "BK-hg4ZHuKX8"
      },
      "source": [
        "# instalação dos programas necessários\n",
        "%%bash\n",
        "mkdir logs\n",
        "sudo apt install awk bwa samtools \\\n",
        "1>./logs/log_instalacao.txt \\\n",
        "2>./logs/erros_instalacao.txt"
      ],
      "execution_count": null,
      "outputs": []
    },
    {
      "cell_type": "code",
      "metadata": {
        "id": "kWDL1EPbu7CE"
      },
      "source": [
        "# baixar GATK: chamador variantes (Genome Analysis Took Kit)\n",
        "%%bash\n",
        "wget https://github.com/broadinstitute/gatk/releases/download/4.1.8.1/gatk-4.1.8.1.zip 1>./logs/log_down_gatk.txt 2>./logs/erros_down_gatk.txt\n",
        "unzip ./gatk-4.1.8.1.zip 1>./logs/log_unzip_gatk.txt 2>./logs/erros_unzip_gatk.txt\n",
        "rm ./gatk-4.1.8.1.zip"
      ],
      "execution_count": null,
      "outputs": []
    },
    {
      "cell_type": "code",
      "metadata": {
        "id": "vC_n6r1j1YFe"
      },
      "source": [
        "# baixar Picard \n",
        "%%bash\n",
        "wget https://github.com/broadinstitute/picard/releases/download/2.24.2/picard.jar 1>./logs/log_down_picard.txt 2>./logs/erro_down_picard.txt"
      ],
      "execution_count": null,
      "outputs": []
    },
    {
      "cell_type": "code",
      "metadata": {
        "id": "LFTJ3flNCxJl"
      },
      "source": [
        "# organizar os diretórios\n",
        "%%bash\n",
        "mkdir referencia\n",
        "mkdir referencia/hg38\n",
        "\n",
        "mkdir dados\n",
        "mkdir dados/fastq\n",
        "mkdir dados/bwa\n",
        "mkdir dados/gatk"
      ],
      "execution_count": null,
      "outputs": []
    },
    {
      "cell_type": "code",
      "metadata": {
        "id": "mWvKL89Vw4fc"
      },
      "source": [
        "# mover amostras e genoma de referência para seus respectivos diretórios\n",
        "%%bash\n",
        "mv ./amostra-lbb_R1.fq.gz ./dados/fastq\n",
        "mv ./amostra-lbb_R2.fq.gz ./dados/fastq\n",
        "mv ./grch38.chr22.fasta.gz ./referencia/hg38"
      ],
      "execution_count": null,
      "outputs": []
    },
    {
      "cell_type": "code",
      "metadata": {
        "id": "LMlcVCgUE1Ih"
      },
      "source": [
        "# Descompactar o arquivo gz do cromossomo 22\n",
        "%%bash\n",
        "gunzip ./referencia/hg38/grch38.chr22.fasta.gz"
      ],
      "execution_count": null,
      "outputs": []
    },
    {
      "cell_type": "code",
      "metadata": {
        "colab": {
          "base_uri": "https://localhost:8080/"
        },
        "id": "XtqmYDX7BhAd",
        "outputId": "a2e50235-e27b-4a87-e0c4-ff11eb0865bd"
      },
      "source": [
        "# visualizar as 10 primeiras linhas\n",
        "%%bash\n",
        "cat ./referencia/hg38/grch38.chr22.fasta | head -n 10"
      ],
      "execution_count": null,
      "outputs": [
        {
          "output_type": "stream",
          "name": "stdout",
          "text": [
            ">chr22\n",
            "NNNNNNNNNNNNNNNNNNNNNNNNNNNNNNNNNNNNNNNNNNNNNNNNNNNNNNNNNNNN\n",
            "NNNNNNNNNNNNNNNNNNNNNNNNNNNNNNNNNNNNNNNNNNNNNNNNNNNNNNNNNNNN\n",
            "NNNNNNNNNNNNNNNNNNNNNNNNNNNNNNNNNNNNNNNNNNNNNNNNNNNNNNNNNNNN\n",
            "NNNNNNNNNNNNNNNNNNNNNNNNNNNNNNNNNNNNNNNNNNNNNNNNNNNNNNNNNNNN\n",
            "NNNNNNNNNNNNNNNNNNNNNNNNNNNNNNNNNNNNNNNNNNNNNNNNNNNNNNNNNNNN\n",
            "NNNNNNNNNNNNNNNNNNNNNNNNNNNNNNNNNNNNNNNNNNNNNNNNNNNNNNNNNNNN\n",
            "NNNNNNNNNNNNNNNNNNNNNNNNNNNNNNNNNNNNNNNNNNNNNNNNNNNNNNNNNNNN\n",
            "NNNNNNNNNNNNNNNNNNNNNNNNNNNNNNNNNNNNNNNNNNNNNNNNNNNNNNNNNNNN\n",
            "NNNNNNNNNNNNNNNNNNNNNNNNNNNNNNNNNNNNNNNNNNNNNNNNNNNNNNNNNNNN\n"
          ]
        }
      ]
    },
    {
      "cell_type": "code",
      "metadata": {
        "id": "FAbZ4QdyzJI3"
      },
      "source": [
        "# indexar o genoma de referência\n",
        "%%bash\n",
        "bwa index -a bwtsw ./referencia/hg38/grch38.chr22.fasta"
      ],
      "execution_count": null,
      "outputs": []
    },
    {
      "cell_type": "code",
      "metadata": {
        "id": "JRJ9BML4zSAX"
      },
      "source": [
        "# criar o índice da referência (chr22)\n",
        "%%bash\n",
        "samtools faidx ./referencia/hg38/grch38.chr22.fasta"
      ],
      "execution_count": null,
      "outputs": []
    },
    {
      "cell_type": "code",
      "metadata": {
        "id": "0qu16KK00Hbn"
      },
      "source": [
        "# CreateSequenceDictionary (algoritmo)\n",
        "%%bash\n",
        "java -jar picard.jar CreateSequenceDictionary \\\n",
        "REFERENCE=./referencia/hg38/grch38.chr22.fasta \\\n",
        "OUTPUT=./referencia/hg38/grch38.chr22.dict"
      ],
      "execution_count": null,
      "outputs": []
    },
    {
      "cell_type": "code",
      "metadata": {
        "id": "4I5dAPgc0Vcb"
      },
      "source": [
        "# mapear reads no genoma de geferência do chr 22\n",
        "%%bash\n",
        "NOME=VANESSA\n",
        "Biblioteca=Exoma\n",
        "Plataforma=NovaSeq6000\n",
        "\n",
        "bwa mem -M -R \"@RG\\tID:CAP\\tSM:$NOME\\tLB:$Biblioteca\\tPL:$Plataforma\" \\\n",
        "./referencia/hg38/grch38.chr22.fasta \\\n",
        "./dados/fastq/amostra-lbb_R1.fq.gz \\\n",
        "./dados/fastq/amostra-lbb_R2.fq.gz \\\n",
        "1>./dados/bwa/AMOSTRA01.sam \\\n",
        "2>./logs/erros_bwa_mem.txt"
      ],
      "execution_count": null,
      "outputs": []
    },
    {
      "cell_type": "code",
      "metadata": {
        "colab": {
          "base_uri": "https://localhost:8080/"
        },
        "id": "eqwAE5n_bbtY",
        "outputId": "dd5fd1e7-d80b-48d1-aa51-422a687210d7"
      },
      "source": [
        "%%bash\n",
        "head ./dados/bwa/AMOSTRA01.sam"
      ],
      "execution_count": null,
      "outputs": [
        {
          "output_type": "stream",
          "name": "stdout",
          "text": [
            "@SQ\tSN:chr22\tLN:50818468\n",
            "@RG\tID:CAP\tSM:VANESSA\tLB:Exoma\tPL:NovaSeq6000\n",
            "@PG\tID:bwa\tPN:bwa\tVN:0.7.17-r1188\tCL:bwa mem -M -R @RG\\tID:CAP\\tSM:VANESSA\\tLB:Exoma\\tPL:NovaSeq6000 ./referencia/hg38/grch38.chr22.fasta ./dados/fastq/amostra-lbb_R1.fq.gz ./dados/fastq/amostra-lbb_R2.fq.gz\n",
            "210730_A00776_0154_BHCMWGDSX2:1:1101:10041:3380\t99\tchr22\t42140705\t0\t101M\t=\t42140793\t189\tGAGATGCAGGGTGAGAGTGGGGACTGGACTCTAGGATGCTGGGACCCCTGCCACCAAACACACGGGGGACACACACTGCCTGGCACACAGCTGGACTCTGT\t?????????????????????????????????????????????????????????????????????????????????????????????????????\tNM:i:0\tMD:Z:101\tMC:Z:101M\tAS:i:101\tXS:i:101\tRG:Z:CAP\tXA:Z:chr22,+42127001,101M,0;\n",
            "210730_A00776_0154_BHCMWGDSX2:1:1101:10041:3380\t147\tchr22\t42140793\t0\t101M\t=\t42140705\t-189\tAGCTGGACTCTGTCAACTAGTCCTGCGCCCGAGAAGCTCCACAGTACCCTCTCCGACCCCACAGCAGGGCGCAGTCACACCTCTCAGAGGCACCCACACTG\t?????????????????????????????????????????????????????????????????????????????????????????????????????\tNM:i:0\tMD:Z:101\tMC:Z:101M\tAS:i:101\tXS:i:101\tRG:Z:CAP\tXA:Z:chr22,-42127089,101M,0;\n",
            "210730_A00776_0154_BHCMWGDSX2:1:1101:10276:30311\t99\tchr22\t45211368\t60\t101M\t=\t45211576\t309\tCTGCGATTTAGTGGATGAAATACGTTAGGCGAATCACTTCATCTCCGAGCCCTCCGTTTCCTCATCTGTAAAAGGGGTAAGAACACCCACCCTGTCGAGTT\t?????????????????????????????????????????????????????????????????????????????????????????????????????\tNM:i:0\tMD:Z:101\tMC:Z:101M\tAS:i:101\tXS:i:23\tRG:Z:CAP\n",
            "210730_A00776_0154_BHCMWGDSX2:1:1101:10276:30311\t147\tchr22\t45211576\t60\t101M\t=\t45211368\t-309\tCAGGTCACCCTGCCATGGCCAAGGGAGGGCCCTGGGCTCTGGAGTCCGACCTTTGCTCTACCATCTACTGACTAATTATAAGAGGCCAGCCGAGTTAGCTG\t???????????????????????????????????????????????????+?????????????????????????????????????????????????\tNM:i:0\tMD:Z:101\tMC:Z:101M\tAS:i:101\tXS:i:0\tRG:Z:CAP\n",
            "210730_A00776_0154_BHCMWGDSX2:1:1101:10474:6042\t83\tchr22\t23957888\t0\t101M\t=\t23957566\t-423\tCAGTCGTGGCCGTCCCTCAAACAGTTCATAGCCGAGAGCCACCGGCTGTAGGGACAAGGATGAAAAAGTTGTGGGCATACAACTTTCCCAGTTGTCACTGC\t??+?????????????????????????????????????????????????????5???+????????????????????????????????????????\tNM:i:0\tMD:Z:101\tMC:Z:101M\tAS:i:101\tXS:i:101\tRG:Z:CAP\tXA:Z:chr22,+23983341,101M,0;\n",
            "210730_A00776_0154_BHCMWGDSX2:1:1101:10474:6042\t163\tchr22\t23957566\t0\t101M\t=\t23957888\t423\tGTAGAAGCACTGCCAAGGACACTGAGTGTCTTGTCTGTGCAGAGCTTCACATGACGCTGGAGAGAAGGGACTGGGGCAAGAGGGAAAGATAAAAAGGGGCA\t??????????????????????????????????????????????????????+??5????????????????????????????????????+??????\tNM:i:2\tMD:Z:4C49A46\tMC:Z:101M\tAS:i:91\tXS:i:91\tRG:Z:CAP\tXA:Z:chr22,-23983663,101M,2;\n",
            "210730_A00776_0154_BHCMWGDSX2:1:1101:10520:30452\t99\tchr22\t45211368\t60\t101M\t=\t45211576\t309\tCTGCGATTTAGTGGATGAAATACGTTAGGCGAATCACTTCATCTCCGAGCCCTCCGTTTCCTCATCTGTAAAAGGGGTAAGAACACCCACCCTGTCGAGTT\t?????????????????????????????????????????????????????????????????????????????????????????????????????\tNM:i:0\tMD:Z:101\tMC:Z:101M\tAS:i:101\tXS:i:23\tRG:Z:CAP\n"
          ]
        }
      ]
    },
    {
      "cell_type": "code",
      "metadata": {
        "id": "ZySeZXRS1-ad"
      },
      "source": [
        "%%bash\n",
        "# fixmate: marca dentro do arquivo mapeado as reads que não tem o matepair mapeado \n",
        "samtools fixmate ./dados/bwa/AMOSTRA01.sam ./dados/bwa/AMOSTRA01.bam\n",
        "\n",
        "# ordenar\n",
        "samtools sort -O bam -o ./dados/bwa/AMOSTRA01_sorted.bam ./dados/bwa/AMOSTRA01.bam \n",
        "\n",
        "# indexar\n",
        "samtools index ./dados/bwa/AMOSTRA01_sorted.bam"
      ],
      "execution_count": null,
      "outputs": []
    },
    {
      "cell_type": "code",
      "metadata": {
        "id": "prKuRzhSBZRp",
        "colab": {
          "base_uri": "https://localhost:8080/"
        },
        "outputId": "462f1ff5-7075-4761-9c3a-caf612830259"
      },
      "source": [
        "%%bash\n",
        "samtools view ./dados/bwa/AMOSTRA01_sorted.bam | head"
      ],
      "execution_count": null,
      "outputs": [
        {
          "output_type": "stream",
          "name": "stdout",
          "text": [
            "210730_A00776_0154_BHCMWGDSX2:3:1332:17074:11177\t99\tchr22\t10520269\t60\t101M\t=\t10520361\t193\tAGCCTAGCCTGCAGGTGGGGCTTCACTGGGGACCCATCACCTTCCACCCAGGAGCCTGTCTGCCTCCCACAACCATCCATGGCACCCAGGCTGCTGGCATC\t?????????????????????????????????????????????????????????????????????????????????????????????????????\tNM:i:0\tMD:Z:101\tAS:i:101\tXS:i:19\tRG:Z:CAP\tMQ:i:60\tMC:Z:101M\n",
            "210730_A00776_0154_BHCMWGDSX2:3:1332:17074:11177\t147\tchr22\t10520361\t60\t101M\t=\t10520269\t-193\tGCTGGCATCAAGGGGCACTTGCAGGCCAGTGCCAAGCCACCCTCGTACCCCCTCATCTTCCCCTCCCATGCTCCTGCTCCTCAGTGTCCAAAGTCCAGAAG\t?????????????????????????????????????????????????????????????????????????????????????????????????????\tNM:i:0\tMD:Z:101\tAS:i:101\tXS:i:0\tRG:Z:CAP\tMQ:i:60\tMC:Z:101M\n",
            "210730_A00776_0154_BHCMWGDSX2:4:2449:23448:30890\t99\tchr22\t10527180\t60\t101M\t=\t10527282\t203\tCTTTTTACCCGCGCCGCCACGGCTTTTTGTGGTTTTTTTTGCCCCCACTCCCGCTGCTTTTTGCTCCTGCCACCGCGGCTTTTTGCCCCCGCCGCGGATTT\t???????????????????????55??????????????????????????????????????????????'???????5?????????????????????\tNM:i:0\tMD:Z:101\tAS:i:101\tXS:i:0\tRG:Z:CAP\tMQ:i:60\tMC:Z:101M\n",
            "210730_A00776_0154_BHCMWGDSX2:4:2449:23448:30890\t147\tchr22\t10527282\t60\t101M\t=\t10527180\t-203\tTACCCCCGCCGCGGAGGATTTTTCCCCTGGTGCTGCGGCTCTGAGGGCAGGAGCGGCAGACTCGGCTGCTAGCTCCGCTGGCGTCCTGGCAAGGGCAGCGC\t?????????????????????????????+'??????????????????????????????????????????????????????????????????????\tNM:i:1\tMD:Z:76A24\tAS:i:96\tXS:i:0\tRG:Z:CAP\tMQ:i:60\tMC:Z:101M\n",
            "210730_A00776_0154_BHCMWGDSX2:2:2567:10755:25034\t163\tchr22\t10527326\t60\t101M\t=\t10527382\t157\tGGGCAGGAGCGGCAGACTCGGCTGCTAGCTCCACTGGCGTCCTGGCAAGGGCAGCGCCGAGGGGCGCTCCTGGTCCAGCTCTCCTGGCTCGGGGGTTCTTT\t?????????????????????????????????????????????????????????????????????????????????????????????????????\tNM:i:0\tMD:Z:101\tAS:i:101\tXS:i:0\tRG:Z:CAP\tMQ:i:60\tMC:Z:101M\n",
            "210730_A00776_0154_BHCMWGDSX2:1:2418:17680:21684\t99\tchr22\t10527354\t60\t101M\t=\t10527399\t146\tCTCCACTGGCGTCCTGGCAAGGGCAGCGCCGAGGGGCGCTCCTGGTCCAGCTCTCCTGGCTCGGGGGTTCTTTGCCTAGGCGCCGGCGCCCCGGGCTCCCT\t?????????????????????????????????????????????????????????????????????????????????????????????????????\tNM:i:0\tMD:Z:101\tAS:i:101\tXS:i:0\tRG:Z:CAP\tMQ:i:60\tMC:Z:101M\n",
            "210730_A00776_0154_BHCMWGDSX2:2:2567:10755:25034\t83\tchr22\t10527382\t60\t101M\t=\t10527326\t-157\tCCGAGGGGCGCTCCTGGTCCAGCTCTCCTGGCTCGGGGGTTCTTTGCCTAGGCGCCGGCGCCCCGGGCTCCCTGCCTCGGCCTCTGTGGCCTGCATAGAGC\t?????????????????????????????????????????????????????????????????????????????????????????????????????\tNM:i:0\tMD:Z:101\tAS:i:101\tXS:i:0\tRG:Z:CAP\tMQ:i:60\tMC:Z:101M\n",
            "210730_A00776_0154_BHCMWGDSX2:1:2418:17680:21684\t147\tchr22\t10527399\t60\t101M\t=\t10527354\t-146\tTCCAGCTCTCCTGGCTCGGGGGTTCTTTGCCTAGGCGCCGGCGCCCCGGGCTCCCTGCCTCGGCCTCTGTGGCCTGCATAGAGCGGCGCTGCGCGCAGAGG\t'????????????????????????????????????????????????????????????????????????????????????????????????????\tNM:i:0\tMD:Z:101\tAS:i:101\tXS:i:19\tRG:Z:CAP\tMQ:i:60\tMC:Z:101M\n",
            "210730_A00776_0154_BHCMWGDSX2:2:1624:23339:31015\t163\tchr22\t10553425\t60\t4S97M\t=\t10553475\t151\tACAGTGTCAAGACTGGTGGAGGTGTGAAATTTAGAGGTCAAACGAAACACCTAGCATTGCTAGGGCAGCCTCCCACAACAAAGAATCCTCTGGTCCTAAAG\t?????????????????????????????????????????????????????????????????????????????????????????????????????\tNM:i:1\tMD:Z:78T18\tAS:i:92\tXS:i:82\tRG:Z:CAP\tXA:Z:chr22,+16246831,4S97M,3;\tMQ:i:60\tMC:Z:101M\n",
            "210730_A00776_0154_BHCMWGDSX2:2:1624:23339:31015\t83\tchr22\t10553475\t60\t101M\t=\t10553425\t-151\tCATTGCTAGGGCAGCCTCCCACAACAAAGAATCCTCTGGTCCTAAAGGTAAGTAGCACCAACGTTGAGAAACCATAATCTAGAGAGTAAACACTATGTAGC\t?????????????????????????????????????????????????????????????????????????????????????????????????????\tNM:i:2\tMD:Z:28T32G39\tAS:i:91\tXS:i:72\tRG:Z:CAP\tMQ:i:60\tMC:Z:4S97M\n"
          ]
        }
      ]
    },
    {
      "cell_type": "code",
      "metadata": {
        "id": "aCG1dkPVCVcZ"
      },
      "source": [
        "# HaplotypeCaller: algoritmo para identificar variantes\n",
        "%%bash\n",
        "gatk-4.1.8.1/gatk HaplotypeCaller \\\n",
        "-R ./referencia/hg38/grch38.chr22.fasta \\\n",
        "-I ./dados/bwa/AMOSTRA01_sorted.bam \\\n",
        "-O ./dados/gatk/AMOSTRA01_sorted.vcf \\\n",
        "-bamout ./dados/bwa/AMOSTRA01_sorted_bamout.bam"
      ],
      "execution_count": null,
      "outputs": []
    },
    {
      "cell_type": "code",
      "metadata": {
        "colab": {
          "base_uri": "https://localhost:8080/"
        },
        "id": "jTMQmKjj5Pue",
        "outputId": "056c3e6e-7623-4d69-89eb-7582320fda1b"
      },
      "source": [
        "%%bash\n",
        "cat ./dados/gatk/AMOSTRA01_sorted.vcf | grep -v \"^##\" | head"
      ],
      "execution_count": null,
      "outputs": [
        {
          "output_type": "stream",
          "name": "stdout",
          "text": [
            "#CHROM\tPOS\tID\tREF\tALT\tQUAL\tFILTER\tINFO\tFORMAT\tVANESSA\n",
            "chr22\t10553503\t.\tT\tG\t37.32\t.\tAC=2;AF=1.00;AN=2;DP=2;ExcessHet=3.0103;FS=0.000;MLEAC=1;MLEAF=0.500;MQ=60.00;QD=18.66;SOR=0.693\tGT:AD:DP:GQ:PL\t1/1:0,2:2:6:49,6,0\n",
            "chr22\t10637059\t.\tC\tT\t2551.06\t.\tAC=2;AF=1.00;AN=2;BaseQRankSum=-0.430;DP=83;ExcessHet=3.0103;FS=13.491;MLEAC=2;MLEAF=1.00;MQ=58.46;MQRankSum=4.858;QD=30.74;ReadPosRankSum=2.747;SOR=0.472\tGT:AD:DP:GQ:PL\t1/1:4,79:83:99:2565,111,0\n",
            "chr22\t10637150\t.\tT\tG\t1199.06\t.\tAC=2;AF=1.00;AN=2;DP=43;ExcessHet=3.0103;FS=0.000;MLEAC=2;MLEAF=1.00;MQ=53.19;QD=34.26;SOR=7.168\tGT:AD:DP:GQ:PL\t1/1:0,35:35:99:1213,105,0\n",
            "chr22\t10685457\t.\tA\tC\t58.32\t.\tAC=2;AF=1.00;AN=2;DP=2;ExcessHet=3.0103;FS=0.000;MLEAC=1;MLEAF=0.500;MQ=60.00;QD=29.16;SOR=2.303\tGT:AD:DP:GQ:PL\t1/1:0,2:2:6:70,6,0\n",
            "chr22\t10685500\t.\tG\tA\t58.32\t.\tAC=2;AF=1.00;AN=2;DP=2;ExcessHet=3.0103;FS=0.000;MLEAC=1;MLEAF=0.500;MQ=60.00;QD=29.16;SOR=2.303\tGT:AD:DP:GQ:PL\t1/1:0,2:2:6:70,6,0\n",
            "chr22\t10685693\t.\tA\tG\t38.64\t.\tAC=1;AF=0.500;AN=2;BaseQRankSum=2.100;DP=8;ExcessHet=3.0103;FS=3.332;MLEAC=1;MLEAF=0.500;MQ=60.00;MQRankSum=0.000;QD=4.83;ReadPosRankSum=0.272;SOR=2.303\tGT:AD:DP:GQ:PL\t0/1:6,2:8:46:46,0,124\n",
            "chr22\t10685774\t.\tG\tA\t110.64\t.\tAC=1;AF=0.500;AN=2;BaseQRankSum=0.000;DP=8;ExcessHet=3.0103;FS=0.000;MLEAC=1;MLEAF=0.500;MQ=55.60;MQRankSum=0.792;QD=15.81;ReadPosRankSum=2.189;SOR=0.368\tGT:AD:DP:GQ:PL\t0/1:3,4:7:80:118,0,80\n",
            "chr22\t10685824\t.\tA\tT\t196.64\t.\tAC=1;AF=0.500;AN=2;BaseQRankSum=0.000;DP=12;ExcessHet=3.0103;FS=0.000;MLEAC=1;MLEAF=0.500;MQ=45.23;MQRankSum=1.776;QD=16.39;ReadPosRankSum=-0.554;SOR=0.293\tGT:AD:DP:GQ:PL\t0/1:5,7:12:99:204,0,129\n",
            "chr22\t10685838\t.\tG\tA\t165.64\t.\tAC=1;AF=0.500;AN=2;BaseQRankSum=0.000;DP=11;ExcessHet=3.0103;FS=0.000;MLEAC=1;MLEAF=0.500;MQ=43.65;MQRankSum=1.532;QD=15.06;ReadPosRankSum=0.705;SOR=0.859\tGT:AD:DP:GQ:PL\t0/1:5,6:11:99:173,0,132\n"
          ]
        }
      ]
    },
    {
      "cell_type": "code",
      "metadata": {
        "colab": {
          "base_uri": "https://localhost:8080/"
        },
        "id": "gzgKMCn6Bhji",
        "outputId": "2c86b7ef-4a93-486c-d585-123c129c9d12"
      },
      "source": [
        "# quantas variantes foram encontradas\n",
        "%%bash\n",
        "cat ./dados/gatk/AMOSTRA01_sorted.vcf | grep -v \"^#\" | wc -l"
      ],
      "execution_count": null,
      "outputs": [
        {
          "output_type": "stream",
          "name": "stdout",
          "text": [
            "3609\n"
          ]
        }
      ]
    },
    {
      "cell_type": "code",
      "metadata": {
        "colab": {
          "base_uri": "https://localhost:8080/"
        },
        "id": "O6aDx9tvQ1JM",
        "outputId": "8a06851e-3833-401b-8c10-7d74dd5167b0"
      },
      "source": [
        "# variantes do GABARITO\n",
        "%%bash\n",
        "cat ./pequeno-gabarito.vcf | grep -v \"^##\" "
      ],
      "execution_count": null,
      "outputs": [
        {
          "output_type": "stream",
          "name": "stdout",
          "text": [
            "#CHROM\tPOS\tID\tREF\tALT\tQUAL\tFILTER\tINFO\tFORMAT\tAMOSTRA-LBB\n",
            "chr22\t19039100\t.\tA\tG\t.\tPASS\t.\tGT\t0/1\n",
            "chr22\t19764306\t.\tC\tT\t.\tPASS\t.\tGT\t0/1\n",
            "chr22\t21975710\t.\tT\tC\t.\tPASS\t.\tGT\t0/1\n",
            "chr22\t23069838\t.\tA\tG\t.\tPASS\t.\tGT\t0/1\n",
            "chr22\t26027014\t.\tA\tG\t.\tPASS\t.\tGT\t1/1\n",
            "chr22\t29441577\t.\tTTCC\tT\t.\tPASS\t.\tGT\t0/1\n",
            "chr22\t33006594\t.\tC\tT\t.\tPASS\t.\tGT\t0/1\n",
            "chr22\t35264882\t.\tG\tT\t.\tPASS\t.\tGT\t1/1\n",
            "chr22\t37746461\t.\tA\tG\t.\tPASS\t.\tGT\t1/1\n",
            "chr22\t43180898\t.\tG\tA\t.\tPASS\t.\tGT\t0/1\n"
          ]
        }
      ]
    },
    {
      "cell_type": "code",
      "metadata": {
        "colab": {
          "base_uri": "https://localhost:8080/"
        },
        "id": "xica5OKRlmFe",
        "outputId": "7babc61d-f1df-4e35-b915-7b50d3421a11"
      },
      "source": [
        "# checar se algumas variantes batem com o gabarito\n",
        "%%bash\n",
        "grep '19039100' ./dados/gatk/AMOSTRA01_sorted.vcf | awk '{print $2,$4,$5}'\n",
        "grep '29441577' ./dados/gatk/AMOSTRA01_sorted.vcf | awk '{print $2,$4,$5}'\n",
        "grep '43180898' ./dados/gatk/AMOSTRA01_sorted.vcf | awk '{print $2,$4,$5}' "
      ],
      "execution_count": null,
      "outputs": [
        {
          "output_type": "stream",
          "name": "stdout",
          "text": [
            "19039100 A G\n",
            "29441577 TTCC T\n",
            "43180898 G A\n"
          ]
        }
      ]
    }
  ]
}